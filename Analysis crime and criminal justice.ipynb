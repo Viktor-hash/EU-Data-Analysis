{
 "cells": [
  {
   "cell_type": "code",
   "execution_count": null,
   "metadata": {},
   "outputs": [],
   "source": [
    "import pandas as pd\n",
    "import seaborn as sns\n",
    "import seaborn.objects as so\n",
    "import numpy as np\n",
    "\n",
    "\n",
    "dfTsv = pd.read_csv(\"C:\\data analysis best country in europe\\costOfLiving\\costOfLiving.tsv\", sep='\\t')\n",
    "\n",
    "dfTsv.head()"
   ]
  }
 ],
 "metadata": {
  "language_info": {
   "name": "python"
  }
 },
 "nbformat": 4,
 "nbformat_minor": 2
}
