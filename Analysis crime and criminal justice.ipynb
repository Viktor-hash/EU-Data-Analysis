{
 "cells": [
  {
   "cell_type": "code",
   "execution_count": null,
   "metadata": {},
   "outputs": [],
   "source": [
    "import pandas as pd\n",
    "import seaborn as sns\n",
    "import seaborn.objects as so\n",
    "import numpy as np\n",
    "\n",
    "# Analysis of human trafficking by citizenship (EU or non EU)\n",
    "# A victim of human trafficking is defined as :\n",
    "# - \n",
    "\n",
    "dfTsv = pd.read_csv(\"C:\\data analysis best country in europe\\costOfLiving\\costOfLiving.tsv\", sep='\\t')\n",
    "\n",
    "dfTsv.head()"
   ]
  }
 ],
 "metadata": {
  "language_info": {
   "name": "python"
  }
 },
 "nbformat": 4,
 "nbformat_minor": 2
}
